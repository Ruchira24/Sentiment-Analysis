{
 "cells": [
  {
   "cell_type": "markdown",
   "metadata": {
    "id": "zETCAYjo-B_S"
   },
   "source": [
    "# Build a sequential NLP classifier which can use input text parameters to determine the customer sentiments"
   ]
  },
  {
   "cell_type": "code",
   "execution_count": null,
   "metadata": {
    "id": "htbpZS--9-8H"
   },
   "outputs": [],
   "source": [
    "%matplotlib inline\n",
    "import matplotlib\n",
    "import matplotlib.pyplot as plt\n",
    "\n",
    "import numpy as np\n",
    "import seaborn as sns"
   ]
  },
  {
   "cell_type": "markdown",
   "metadata": {
    "id": "nPIl21aEVVtK"
   },
   "source": [
    "## **Step 1: Import and analyse the data set.**"
   ]
  },
  {
   "cell_type": "code",
   "execution_count": null,
   "metadata": {
    "colab": {
     "base_uri": "https://localhost:8080/"
    },
    "executionInfo": {
     "elapsed": 6052,
     "status": "ok",
     "timestamp": 1626103674110,
     "user": {
      "displayName": "Ruchira S Dwivedi",
      "photoUrl": "",
      "userId": "08004570390284030604"
     },
     "user_tz": -330
    },
    "id": "7iIOzybA-DUs",
    "outputId": "fe0af0ae-cd5c-44dd-d82b-5c6eae17cd86"
   },
   "outputs": [
    {
     "name": "stdout",
     "output_type": "stream",
     "text": [
      "Downloading data from https://storage.googleapis.com/tensorflow/tf-keras-datasets/imdb.npz\n",
      "17465344/17464789 [==============================] - 0s 0us/step\n",
      "17473536/17464789 [==============================] - 0s 0us/step\n"
     ]
    },
    {
     "name": "stderr",
     "output_type": "stream",
     "text": [
      "<string>:6: VisibleDeprecationWarning: Creating an ndarray from ragged nested sequences (which is a list-or-tuple of lists-or-tuples-or ndarrays with different lengths or shapes) is deprecated. If you meant to do this, you must specify 'dtype=object' when creating the ndarray\n",
      "/usr/local/lib/python3.7/dist-packages/keras/datasets/imdb.py:155: VisibleDeprecationWarning: Creating an ndarray from ragged nested sequences (which is a list-or-tuple of lists-or-tuples-or ndarrays with different lengths or shapes) is deprecated. If you meant to do this, you must specify 'dtype=object' when creating the ndarray\n",
      "  x_train, y_train = np.array(xs[:idx]), np.array(labels[:idx])\n",
      "/usr/local/lib/python3.7/dist-packages/keras/datasets/imdb.py:156: VisibleDeprecationWarning: Creating an ndarray from ragged nested sequences (which is a list-or-tuple of lists-or-tuples-or ndarrays with different lengths or shapes) is deprecated. If you meant to do this, you must specify 'dtype=object' when creating the ndarray\n",
      "  x_test, y_test = np.array(xs[idx:]), np.array(labels[idx:])\n"
     ]
    }
   ],
   "source": [
    "from keras.datasets import imdb\n",
    "(training_data, training_targets), (testing_data, testing_targets) = imdb.load_data(num_words=10000)\n",
    "#num_words=10,000 since Words are ranked by how often they occur (in the training set) \n",
    "#and only the num_words ie 10k most frequent words are kept"
   ]
  },
  {
   "cell_type": "code",
   "execution_count": null,
   "metadata": {
    "colab": {
     "base_uri": "https://localhost:8080/"
    },
    "executionInfo": {
     "elapsed": 392,
     "status": "ok",
     "timestamp": 1626103765396,
     "user": {
      "displayName": "Ruchira S Dwivedi",
      "photoUrl": "",
      "userId": "08004570390284030604"
     },
     "user_tz": -330
    },
    "id": "-39k8eJGVfgX",
    "outputId": "e54ee1e1-7752-4c35-d406-b9be9298b4db"
   },
   "outputs": [
    {
     "data": {
      "text/plain": [
       "array([list([1, 14, 22, 16, 43, 530, 973, 1622, 1385, 65, 458, 4468, 66, 3941, 4, 173, 36, 256, 5, 25, 100, 43, 838, 112, 50, 670, 2, 9, 35, 480, 284, 5, 150, 4, 172, 112, 167, 2, 336, 385, 39, 4, 172, 4536, 1111, 17, 546, 38, 13, 447, 4, 192, 50, 16, 6, 147, 2025, 19, 14, 22, 4, 1920, 4613, 469, 4, 22, 71, 87, 12, 16, 43, 530, 38, 76, 15, 13, 1247, 4, 22, 17, 515, 17, 12, 16, 626, 18, 2, 5, 62, 386, 12, 8, 316, 8, 106, 5, 4, 2223, 5244, 16, 480, 66, 3785, 33, 4, 130, 12, 16, 38, 619, 5, 25, 124, 51, 36, 135, 48, 25, 1415, 33, 6, 22, 12, 215, 28, 77, 52, 5, 14, 407, 16, 82, 2, 8, 4, 107, 117, 5952, 15, 256, 4, 2, 7, 3766, 5, 723, 36, 71, 43, 530, 476, 26, 400, 317, 46, 7, 4, 2, 1029, 13, 104, 88, 4, 381, 15, 297, 98, 32, 2071, 56, 26, 141, 6, 194, 7486, 18, 4, 226, 22, 21, 134, 476, 26, 480, 5, 144, 30, 5535, 18, 51, 36, 28, 224, 92, 25, 104, 4, 226, 65, 16, 38, 1334, 88, 12, 16, 283, 5, 16, 4472, 113, 103, 32, 15, 16, 5345, 19, 178, 32]),\n",
       "       list([1, 194, 1153, 194, 8255, 78, 228, 5, 6, 1463, 4369, 5012, 134, 26, 4, 715, 8, 118, 1634, 14, 394, 20, 13, 119, 954, 189, 102, 5, 207, 110, 3103, 21, 14, 69, 188, 8, 30, 23, 7, 4, 249, 126, 93, 4, 114, 9, 2300, 1523, 5, 647, 4, 116, 9, 35, 8163, 4, 229, 9, 340, 1322, 4, 118, 9, 4, 130, 4901, 19, 4, 1002, 5, 89, 29, 952, 46, 37, 4, 455, 9, 45, 43, 38, 1543, 1905, 398, 4, 1649, 26, 6853, 5, 163, 11, 3215, 2, 4, 1153, 9, 194, 775, 7, 8255, 2, 349, 2637, 148, 605, 2, 8003, 15, 123, 125, 68, 2, 6853, 15, 349, 165, 4362, 98, 5, 4, 228, 9, 43, 2, 1157, 15, 299, 120, 5, 120, 174, 11, 220, 175, 136, 50, 9, 4373, 228, 8255, 5, 2, 656, 245, 2350, 5, 4, 9837, 131, 152, 491, 18, 2, 32, 7464, 1212, 14, 9, 6, 371, 78, 22, 625, 64, 1382, 9, 8, 168, 145, 23, 4, 1690, 15, 16, 4, 1355, 5, 28, 6, 52, 154, 462, 33, 89, 78, 285, 16, 145, 95]),\n",
       "       list([1, 14, 47, 8, 30, 31, 7, 4, 249, 108, 7, 4, 5974, 54, 61, 369, 13, 71, 149, 14, 22, 112, 4, 2401, 311, 12, 16, 3711, 33, 75, 43, 1829, 296, 4, 86, 320, 35, 534, 19, 263, 4821, 1301, 4, 1873, 33, 89, 78, 12, 66, 16, 4, 360, 7, 4, 58, 316, 334, 11, 4, 1716, 43, 645, 662, 8, 257, 85, 1200, 42, 1228, 2578, 83, 68, 3912, 15, 36, 165, 1539, 278, 36, 69, 2, 780, 8, 106, 14, 6905, 1338, 18, 6, 22, 12, 215, 28, 610, 40, 6, 87, 326, 23, 2300, 21, 23, 22, 12, 272, 40, 57, 31, 11, 4, 22, 47, 6, 2307, 51, 9, 170, 23, 595, 116, 595, 1352, 13, 191, 79, 638, 89, 2, 14, 9, 8, 106, 607, 624, 35, 534, 6, 227, 7, 129, 113]),\n",
       "       ...,\n",
       "       list([1, 11, 6, 230, 245, 6401, 9, 6, 1225, 446, 2, 45, 2174, 84, 8322, 4007, 21, 4, 912, 84, 2, 325, 725, 134, 2, 1715, 84, 5, 36, 28, 57, 1099, 21, 8, 140, 8, 703, 5, 2, 84, 56, 18, 1644, 14, 9, 31, 7, 4, 9406, 1209, 2295, 2, 1008, 18, 6, 20, 207, 110, 563, 12, 8, 2901, 2, 8, 97, 6, 20, 53, 4767, 74, 4, 460, 364, 1273, 29, 270, 11, 960, 108, 45, 40, 29, 2961, 395, 11, 6, 4065, 500, 7, 2, 89, 364, 70, 29, 140, 4, 64, 4780, 11, 4, 2678, 26, 178, 4, 529, 443, 2, 5, 27, 710, 117, 2, 8123, 165, 47, 84, 37, 131, 818, 14, 595, 10, 10, 61, 1242, 1209, 10, 10, 288, 2260, 1702, 34, 2901, 2, 4, 65, 496, 4, 231, 7, 790, 5, 6, 320, 234, 2766, 234, 1119, 1574, 7, 496, 4, 139, 929, 2901, 2, 7750, 5, 4241, 18, 4, 8497, 2, 250, 11, 1818, 7561, 4, 4217, 5408, 747, 1115, 372, 1890, 1006, 541, 9303, 7, 4, 59, 2, 4, 3586, 2]),\n",
       "       list([1, 1446, 7079, 69, 72, 3305, 13, 610, 930, 8, 12, 582, 23, 5, 16, 484, 685, 54, 349, 11, 4120, 2959, 45, 58, 1466, 13, 197, 12, 16, 43, 23, 2, 5, 62, 30, 145, 402, 11, 4131, 51, 575, 32, 61, 369, 71, 66, 770, 12, 1054, 75, 100, 2198, 8, 4, 105, 37, 69, 147, 712, 75, 3543, 44, 257, 390, 5, 69, 263, 514, 105, 50, 286, 1814, 23, 4, 123, 13, 161, 40, 5, 421, 4, 116, 16, 897, 13, 2, 40, 319, 5872, 112, 6700, 11, 4803, 121, 25, 70, 3468, 4, 719, 3798, 13, 18, 31, 62, 40, 8, 7200, 4, 2, 7, 14, 123, 5, 942, 25, 8, 721, 12, 145, 5, 202, 12, 160, 580, 202, 12, 6, 52, 58, 2, 92, 401, 728, 12, 39, 14, 251, 8, 15, 251, 5, 2, 12, 38, 84, 80, 124, 12, 9, 23]),\n",
       "       list([1, 17, 6, 194, 337, 7, 4, 204, 22, 45, 254, 8, 106, 14, 123, 4, 2, 270, 2, 5, 2, 2, 732, 2098, 101, 405, 39, 14, 1034, 4, 1310, 9, 115, 50, 305, 12, 47, 4, 168, 5, 235, 7, 38, 111, 699, 102, 7, 4, 4039, 9245, 9, 24, 6, 78, 1099, 17, 2345, 2, 21, 27, 9685, 6139, 5, 2, 1603, 92, 1183, 4, 1310, 7, 4, 204, 42, 97, 90, 35, 221, 109, 29, 127, 27, 118, 8, 97, 12, 157, 21, 6789, 2, 9, 6, 66, 78, 1099, 4, 631, 1191, 5, 2642, 272, 191, 1070, 6, 7585, 8, 2197, 2, 2, 544, 5, 383, 1271, 848, 1468, 2, 497, 2, 8, 1597, 8778, 2, 21, 60, 27, 239, 9, 43, 8368, 209, 405, 10, 10, 12, 764, 40, 4, 248, 20, 12, 16, 5, 174, 1791, 72, 7, 51, 6, 1739, 22, 4, 204, 131, 9])],\n",
       "      dtype=object)"
      ]
     },
     "execution_count": 5,
     "metadata": {
      "tags": []
     },
     "output_type": "execute_result"
    }
   ],
   "source": [
    "training_data"
   ]
  },
  {
   "cell_type": "code",
   "execution_count": null,
   "metadata": {
    "colab": {
     "base_uri": "https://localhost:8080/"
    },
    "executionInfo": {
     "elapsed": 354,
     "status": "ok",
     "timestamp": 1626103779972,
     "user": {
      "displayName": "Ruchira S Dwivedi",
      "photoUrl": "",
      "userId": "08004570390284030604"
     },
     "user_tz": -330
    },
    "id": "-xB4w6OOVmnD",
    "outputId": "341b3372-3872-449b-81ab-0369310e764b"
   },
   "outputs": [
    {
     "data": {
      "text/plain": [
       "array([1, 0, 0, ..., 0, 1, 0])"
      ]
     },
     "execution_count": 6,
     "metadata": {
      "tags": []
     },
     "output_type": "execute_result"
    }
   ],
   "source": [
    "training_targets"
   ]
  },
  {
   "cell_type": "markdown",
   "metadata": {
    "id": "oG3J0bkoCE5R"
   },
   "source": [
    "### **Analyzing the Dataset**"
   ]
  },
  {
   "cell_type": "code",
   "execution_count": null,
   "metadata": {
    "id": "KMbej7MuXsci"
   },
   "outputs": [],
   "source": [
    "#Concatenating the training and testing data to perform various analysis\n",
    "data = np.concatenate((training_data, testing_data), axis=0)\n",
    "targets = np.concatenate((training_targets, testing_targets), axis=0)"
   ]
  },
  {
   "cell_type": "code",
   "execution_count": null,
   "metadata": {
    "colab": {
     "base_uri": "https://localhost:8080/"
    },
    "executionInfo": {
     "elapsed": 914,
     "status": "ok",
     "timestamp": 1626104372951,
     "user": {
      "displayName": "Ruchira S Dwivedi",
      "photoUrl": "",
      "userId": "08004570390284030604"
     },
     "user_tz": -330
    },
    "id": "fz6b_HATBsPm",
    "outputId": "6f394a1e-9009-4a59-f47b-ddc1890290b9"
   },
   "outputs": [
    {
     "name": "stdout",
     "output_type": "stream",
     "text": [
      "Categories: [0 1]\n"
     ]
    }
   ],
   "source": [
    "print(\"Categories:\", np.unique(targets))\n"
   ]
  },
  {
   "cell_type": "code",
   "execution_count": null,
   "metadata": {
    "colab": {
     "base_uri": "https://localhost:8080/"
    },
    "executionInfo": {
     "elapsed": 923,
     "status": "ok",
     "timestamp": 1626104377070,
     "user": {
      "displayName": "Ruchira S Dwivedi",
      "photoUrl": "",
      "userId": "08004570390284030604"
     },
     "user_tz": -330
    },
    "id": "co40MfkzCSkI",
    "outputId": "aa56bb4f-c344-4aaa-926e-f06e4d5f01e9"
   },
   "outputs": [
    {
     "name": "stdout",
     "output_type": "stream",
     "text": [
      "Number of unique words: 9998\n"
     ]
    }
   ],
   "source": [
    "#numpy.hstack() is used to stack the sequence of input arrays horizontally to make a single array.\n",
    "print(\"Number of unique words:\", len(np.unique(np.hstack(training_data,testing_data))))"
   ]
  },
  {
   "cell_type": "code",
   "execution_count": null,
   "metadata": {
    "colab": {
     "base_uri": "https://localhost:8080/"
    },
    "executionInfo": {
     "elapsed": 364,
     "status": "ok",
     "timestamp": 1626104382227,
     "user": {
      "displayName": "Ruchira S Dwivedi",
      "photoUrl": "",
      "userId": "08004570390284030604"
     },
     "user_tz": -330
    },
    "id": "sh6YlgkCDJQC",
    "outputId": "aa818fbd-b879-47ba-e574-16540fd0c957"
   },
   "outputs": [
    {
     "data": {
      "text/plain": [
       "[218, 189, 141, 550, 147, 43, 123, 562, 233, 130]"
      ]
     },
     "execution_count": 15,
     "metadata": {
      "tags": []
     },
     "output_type": "execute_result"
    }
   ],
   "source": [
    "length = [len(i) for i in data]\n",
    "length[:10]"
   ]
  },
  {
   "cell_type": "code",
   "execution_count": null,
   "metadata": {
    "colab": {
     "base_uri": "https://localhost:8080/"
    },
    "executionInfo": {
     "elapsed": 350,
     "status": "ok",
     "timestamp": 1626104386106,
     "user": {
      "displayName": "Ruchira S Dwivedi",
      "photoUrl": "",
      "userId": "08004570390284030604"
     },
     "user_tz": -330
    },
    "id": "m9Ln3brGKN_I",
    "outputId": "73d28be3-8b6c-48b3-f409-9fe066735042"
   },
   "outputs": [
    {
     "data": {
      "text/plain": [
       "2494"
      ]
     },
     "execution_count": 16,
     "metadata": {
      "tags": []
     },
     "output_type": "execute_result"
    }
   ],
   "source": [
    "max(length)"
   ]
  },
  {
   "cell_type": "code",
   "execution_count": null,
   "metadata": {
    "colab": {
     "base_uri": "https://localhost:8080/"
    },
    "executionInfo": {
     "elapsed": 356,
     "status": "ok",
     "timestamp": 1626104390715,
     "user": {
      "displayName": "Ruchira S Dwivedi",
      "photoUrl": "",
      "userId": "08004570390284030604"
     },
     "user_tz": -330
    },
    "id": "e5IHwVMiCPvw",
    "outputId": "34dd4e14-d801-449c-cddd-a4ade4e12772"
   },
   "outputs": [
    {
     "name": "stdout",
     "output_type": "stream",
     "text": [
      "Average Review length: 234.75892\n",
      "Standard Deviation: 173\n"
     ]
    }
   ],
   "source": [
    "print(\"Average Review length:\", np.mean(length))\n",
    "print(\"Standard Deviation:\", round(np.std(length)))"
   ]
  },
  {
   "cell_type": "markdown",
   "metadata": {
    "id": "jExA5qDoN_JN"
   },
   "source": [
    "So we see that dataset is labeled into two categories, — 0 or 1, which represents the sentiment of the review. \n",
    "The whole dataset contains 9,998 unique words and the average review length is 234 words, with a standard deviation of 173 words."
   ]
  },
  {
   "cell_type": "code",
   "execution_count": null,
   "metadata": {
    "colab": {
     "base_uri": "https://localhost:8080/",
     "height": 319
    },
    "executionInfo": {
     "elapsed": 1175,
     "status": "ok",
     "timestamp": 1626067829508,
     "user": {
      "displayName": "Ruchira S Dwivedi",
      "photoUrl": "",
      "userId": "08004570390284030604"
     },
     "user_tz": -330
    },
    "id": "HugLVK9vDWxG",
    "outputId": "1c9cba5f-2766-4fc2-8bb0-77923cfd13d5"
   },
   "outputs": [
    {
     "name": "stderr",
     "output_type": "stream",
     "text": [
      "/usr/local/lib/python3.7/dist-packages/seaborn/distributions.py:2557: FutureWarning: `distplot` is a deprecated function and will be removed in a future version. Please adapt your code to use either `displot` (a figure-level function with similar flexibility) or `histplot` (an axes-level function for histograms).\n",
      "  warnings.warn(msg, FutureWarning)\n"
     ]
    },
    {
     "data": {
      "image/png": "[encoded data removed]",
      "text/plain": [
       "<Figure size 432x288 with 1 Axes>"
      ]
     },
     "metadata": {
      "needs_background": "light",
      "tags": []
     },
     "output_type": "display_data"
    }
   ],
   "source": [
    "sns.distplot(length,color='red',label=' Total Review Length');"
   ]
  },
  {
   "cell_type": "markdown",
   "metadata": {
    "id": "g9ncVBcfM72w"
   },
   "source": [
    "## **POSTIVE AND NEGATIVE REVIEW COMPARISION**"
   ]
  },
  {
   "cell_type": "code",
   "execution_count": null,
   "metadata": {
    "id": "SVFEBB3UL062"
   },
   "outputs": [],
   "source": [
    "pos_rev=[]\n",
    "neg_rev=[]"
   ]
  },
  {
   "cell_type": "code",
   "execution_count": null,
   "metadata": {
    "id": "-GDdLyCmFLMy"
   },
   "outputs": [],
   "source": [
    "for i in np.arange(len(data)):\n",
    "  if targets[i]==0:\n",
    "    neg_rev.append(len(data[i]))\n",
    "  else:\n",
    "    pos_rev.append(len(data[i]))  "
   ]
  },
  {
   "cell_type": "code",
   "execution_count": null,
   "metadata": {
    "colab": {
     "base_uri": "https://localhost:8080/"
    },
    "executionInfo": {
     "elapsed": 358,
     "status": "ok",
     "timestamp": 1626104452652,
     "user": {
      "displayName": "Ruchira S Dwivedi",
      "photoUrl": "",
      "userId": "08004570390284030604"
     },
     "user_tz": -330
    },
    "id": "h1pef2kXLn1-",
    "outputId": "d97e34aa-7102-42c1-f51b-5321cfb2ad84"
   },
   "outputs": [
    {
     "data": {
      "text/plain": [
       "(25000, 25000)"
      ]
     },
     "execution_count": 20,
     "metadata": {
      "tags": []
     },
     "output_type": "execute_result"
    }
   ],
   "source": [
    "len(pos_rev),len(neg_rev)"
   ]
  },
  {
   "cell_type": "code",
   "execution_count": null,
   "metadata": {
    "colab": {
     "base_uri": "https://localhost:8080/",
     "height": 493
    },
    "executionInfo": {
     "elapsed": 1606,
     "status": "ok",
     "timestamp": 1626104457282,
     "user": {
      "displayName": "Ruchira S Dwivedi",
      "photoUrl": "",
      "userId": "08004570390284030604"
     },
     "user_tz": -330
    },
    "id": "CUzLxzokMhZA",
    "outputId": "bf926cea-9a4e-4942-a1b4-131d715c0b2e"
   },
   "outputs": [
    {
     "name": "stderr",
     "output_type": "stream",
     "text": [
      "/usr/local/lib/python3.7/dist-packages/seaborn/distributions.py:2557: FutureWarning: `distplot` is a deprecated function and will be removed in a future version. Please adapt your code to use either `displot` (a figure-level function with similar flexibility) or `histplot` (an axes-level function for histograms).\n",
      "  warnings.warn(msg, FutureWarning)\n",
      "/usr/local/lib/python3.7/dist-packages/seaborn/distributions.py:2557: FutureWarning: `distplot` is a deprecated function and will be removed in a future version. Please adapt your code to use either `displot` (a figure-level function with similar flexibility) or `histplot` (an axes-level function for histograms).\n",
      "  warnings.warn(msg, FutureWarning)\n"
     ]
    },
    {
     "data": {
      "text/plain": [
       "[Text(0, 0.5, 'Freq of Occurence'), Text(0.5, 0, 'Total Word Count')]"
      ]
     },
     "execution_count": 21,
     "metadata": {
      "tags": []
     },
     "output_type": "execute_result"
    },
    {
     "data": {
      "image/png": "[encoded data removed]",
      "text/plain": [
       "<Figure size 576x432 with 1 Axes>"
      ]
     },
     "metadata": {
      "needs_background": "light",
      "tags": []
     },
     "output_type": "display_data"
    }
   ],
   "source": [
    "fig,ax=plt.subplots(figsize=(8,6));\n",
    "sns.distplot(pos_rev,color='red',label='Positive Review Length');\n",
    "sns.distplot(neg_rev,color='blue',label='Negative Review Length');\n",
    "ax.legend()\n",
    "ax.set(xlabel='Total Word Count',ylabel='Freq of Occurence')"
   ]
  },
  {
   "cell_type": "markdown",
   "metadata": {
    "id": "IjzsDjQhYQkQ"
   },
   "source": [
    "We see that the histogram for both positive and negative reviews is nearly the same."
   ]
  },
  {
   "cell_type": "markdown",
   "metadata": {
    "id": "6ivFTKh8UURi"
   },
   "source": [
    "## **Step 2:Perform relevant sequence adding on the data**"
   ]
  },
  {
   "cell_type": "code",
   "execution_count": null,
   "metadata": {
    "id": "4AYRX7dAWYa4"
   },
   "outputs": [],
   "source": [
    "#Use the first 20 words from each review to speed up training\n",
    "\n",
    "from keras.preprocessing import sequence\n",
    "max_review_length = 20\n",
    "\n",
    "training_data1 = sequence.pad_sequences(training_data, maxlen=max_review_length,padding='post')\n",
    "testing_data1 = sequence.pad_sequences(testing_data, maxlen=max_review_length,padding='post')"
   ]
  },
  {
   "cell_type": "markdown",
   "metadata": {
    "id": "bMyWtAriRa9f"
   },
   "source": [
    "## **Step 3: Perform following data analysis**\n"
   ]
  },
  {
   "cell_type": "markdown",
   "metadata": {
    "id": "F-FdVn2LRwmO"
   },
   "source": [
    "## **Step 3.1: Print shape of features and labels**"
   ]
  },
  {
   "cell_type": "code",
   "execution_count": null,
   "metadata": {
    "colab": {
     "base_uri": "https://localhost:8080/"
    },
    "executionInfo": {
     "elapsed": 515,
     "status": "ok",
     "timestamp": 1626105183506,
     "user": {
      "displayName": "Ruchira S Dwivedi",
      "photoUrl": "",
      "userId": "08004570390284030604"
     },
     "user_tz": -330
    },
    "id": "a91vn53TNa4U",
    "outputId": "35813c55-98c9-4751-e3e1-7a1a790758a1"
   },
   "outputs": [
    {
     "data": {
      "text/plain": [
       "(25000, 25000)"
      ]
     },
     "execution_count": 63,
     "metadata": {
      "tags": []
     },
     "output_type": "execute_result"
    }
   ],
   "source": [
    "len(training_data),len(training_targets)"
   ]
  },
  {
   "cell_type": "code",
   "execution_count": null,
   "metadata": {
    "colab": {
     "base_uri": "https://localhost:8080/"
    },
    "executionInfo": {
     "elapsed": 5,
     "status": "ok",
     "timestamp": 1626105185143,
     "user": {
      "displayName": "Ruchira S Dwivedi",
      "photoUrl": "",
      "userId": "08004570390284030604"
     },
     "user_tz": -330
    },
    "id": "RWufXipzYoHJ",
    "outputId": "9f8c3ede-cd47-491c-da88-652a1c31d0bf"
   },
   "outputs": [
    {
     "data": {
      "text/plain": [
       "(25000, 25000)"
      ]
     },
     "execution_count": 64,
     "metadata": {
      "tags": []
     },
     "output_type": "execute_result"
    }
   ],
   "source": [
    "len(testing_data),len(testing_targets)\n"
   ]
  },
  {
   "cell_type": "code",
   "execution_count": null,
   "metadata": {
    "id": "-IQbvcK0ddiP"
   },
   "outputs": [],
   "source": [
    "length = [len(i) for i in data1]"
   ]
  },
  {
   "cell_type": "code",
   "execution_count": null,
   "metadata": {
    "colab": {
     "base_uri": "https://localhost:8080/"
    },
    "executionInfo": {
     "elapsed": 6,
     "status": "ok",
     "timestamp": 1626105188180,
     "user": {
      "displayName": "Ruchira S Dwivedi",
      "photoUrl": "",
      "userId": "08004570390284030604"
     },
     "user_tz": -330
    },
    "id": "qGIptejqdhJe",
    "outputId": "5e56de68-f6a3-4331-a31a-ee6ae8bf9b86"
   },
   "outputs": [
    {
     "data": {
      "text/plain": [
       "array([20])"
      ]
     },
     "execution_count": 66,
     "metadata": {
      "tags": []
     },
     "output_type": "execute_result"
    }
   ],
   "source": [
    "np.unique(length)"
   ]
  },
  {
   "cell_type": "code",
   "execution_count": null,
   "metadata": {
    "colab": {
     "base_uri": "https://localhost:8080/"
    },
    "executionInfo": {
     "elapsed": 375,
     "status": "ok",
     "timestamp": 1626105275076,
     "user": {
      "displayName": "Ruchira S Dwivedi",
      "photoUrl": "",
      "userId": "08004570390284030604"
     },
     "user_tz": -330
    },
    "id": "HZtHw7L7R35H",
    "outputId": "f0ee7f9e-21f1-4e2b-cd18-1805fb4fbf8f"
   },
   "outputs": [
    {
     "name": "stdout",
     "output_type": "stream",
     "text": [
      "Shape of Training Features is (25000, 20)\n",
      "Shape of Training Labels is (25000,) \n",
      "\n",
      "Shape of Testing Features is (25000, 20)\n",
      "Shape of Testing Labels is (25000,)\n"
     ]
    }
   ],
   "source": [
    "print(\"Shape of Training Features is\",training_data1.shape)\n",
    "print(\"Shape of Training Labels is\",training_targets.shape,\"\\n\")\n",
    "\n",
    "print(\"Shape of Testing Features is\",testing_data1.shape)\n",
    "print(\"Shape of Testing Labels is\",testing_targets.shape)"
   ]
  },
  {
   "cell_type": "markdown",
   "metadata": {
    "id": "zsSzuSy0PNYZ"
   },
   "source": [
    "\n",
    "## **Step 3.2: Print value of any one feature and it's label**\n"
   ]
  },
  {
   "cell_type": "code",
   "execution_count": null,
   "metadata": {
    "colab": {
     "base_uri": "https://localhost:8080/"
    },
    "executionInfo": {
     "elapsed": 369,
     "status": "ok",
     "timestamp": 1626105317153,
     "user": {
      "displayName": "Ruchira S Dwivedi",
      "photoUrl": "",
      "userId": "08004570390284030604"
     },
     "user_tz": -330
    },
    "id": "1ebofWSVPNjm",
    "outputId": "19473fc8-ba0f-4906-c6c1-c2a0e0a60b97"
   },
   "outputs": [
    {
     "name": "stdout",
     "output_type": "stream",
     "text": [
      "Label: 0\n"
     ]
    }
   ],
   "source": [
    "print(\"Label:\", training_targets[5])"
   ]
  },
  {
   "cell_type": "code",
   "execution_count": null,
   "metadata": {
    "colab": {
     "base_uri": "https://localhost:8080/"
    },
    "executionInfo": {
     "elapsed": 411,
     "status": "ok",
     "timestamp": 1626105310376,
     "user": {
      "displayName": "Ruchira S Dwivedi",
      "photoUrl": "",
      "userId": "08004570390284030604"
     },
     "user_tz": -330
    },
    "id": "Wt8GC4cjPNmt",
    "outputId": "d6d697ca-9ddb-4cf3-ca1b-76a778833c86"
   },
   "outputs": [
    {
     "name": "stdout",
     "output_type": "stream",
     "text": [
      "[  10   10 1361  173    4  749    2   16 3804    8    4  226   65   12\n",
      "   43  127   24    2   10   10]\n"
     ]
    }
   ],
   "source": [
    "print(training_data1[5])"
   ]
  },
  {
   "cell_type": "markdown",
   "metadata": {
    "id": "DRWmR2dCPRuc"
   },
   "source": [
    "## **Step 4: Decode the feature value to get original sentence**"
   ]
  },
  {
   "cell_type": "code",
   "execution_count": null,
   "metadata": {
    "colab": {
     "base_uri": "https://localhost:8080/"
    },
    "executionInfo": {
     "elapsed": 357,
     "status": "ok",
     "timestamp": 1626104610872,
     "user": {
      "displayName": "Ruchira S Dwivedi",
      "photoUrl": "",
      "userId": "08004570390284030604"
     },
     "user_tz": -330
    },
    "id": "XpyJ4WMyPNph",
    "outputId": "543cd75a-2e37-416f-8089-1c7952b882eb"
   },
   "outputs": [
    {
     "name": "stdout",
     "output_type": "stream",
     "text": [
      "Downloading data from https://storage.googleapis.com/tensorflow/tf-keras-datasets/imdb_word_index.json\n",
      "1646592/1641221 [==============================] - 0s 0us/step\n",
      "1654784/1641221 [==============================] - 0s 0us/step\n"
     ]
    }
   ],
   "source": [
    "index = imdb.get_word_index()\n",
    "#index"
   ]
  },
  {
   "cell_type": "code",
   "execution_count": null,
   "metadata": {
    "id": "z0Pd0XzvPzHt"
   },
   "outputs": [],
   "source": [
    "reverse_index = dict([(value, key) for (key, value) in index.items()]) \n",
    "#reverse_index"
   ]
  },
  {
   "cell_type": "code",
   "execution_count": null,
   "metadata": {
    "colab": {
     "base_uri": "https://localhost:8080/"
    },
    "executionInfo": {
     "elapsed": 348,
     "status": "ok",
     "timestamp": 1626104714109,
     "user": {
      "displayName": "Ruchira S Dwivedi",
      "photoUrl": "",
      "userId": "08004570390284030604"
     },
     "user_tz": -330
    },
    "id": "oMWtQR6XP_WA",
    "outputId": "04a474e2-5685-46c5-9611-ec14712077a4"
   },
   "outputs": [
    {
     "data": {
      "text/plain": [
       "(88584, [1, 2, 3, 4, 5, 6, 7, 8, 9, 10])"
      ]
     },
     "execution_count": 43,
     "metadata": {
      "tags": []
     },
     "output_type": "execute_result"
    }
   ],
   "source": [
    "key_list=[key for key in sorted(reverse_index)] \n",
    "len(key_list),key_list[:10]   "
   ]
  },
  {
   "cell_type": "code",
   "execution_count": null,
   "metadata": {
    "colab": {
     "base_uri": "https://localhost:8080/",
     "height": 52
    },
    "executionInfo": {
     "elapsed": 367,
     "status": "ok",
     "timestamp": 1626105436917,
     "user": {
      "displayName": "Ruchira S Dwivedi",
      "photoUrl": "",
      "userId": "08004570390284030604"
     },
     "user_tz": -330
    },
    "id": "H2iz5RusTNjW",
    "outputId": "0e3a6eda-8dc9-4a49-8bee-2bf91e2c8b47"
   },
   "outputs": [
    {
     "data": {
      "application/vnd.google.colaboratory.intrinsic+json": {
       "type": "string"
      },
      "text/plain": [
       "'the effort still been that usually makes for of finished sucking ended and an because before if just though something'"
      ]
     },
     "execution_count": 76,
     "metadata": {
      "tags": []
     },
     "output_type": "execute_result"
    }
   ],
   "source": [
    "decoded=\" \".join( [reverse_index.get(i) for i in training_data1[5]] )\n",
    "decoded"
   ]
  },
  {
   "cell_type": "code",
   "execution_count": null,
   "metadata": {
    "colab": {
     "base_uri": "https://localhost:8080/"
    },
    "executionInfo": {
     "elapsed": 338,
     "status": "ok",
     "timestamp": 1626106491577,
     "user": {
      "displayName": "Ruchira S Dwivedi",
      "photoUrl": "",
      "userId": "08004570390284030604"
     },
     "user_tz": -330
    },
    "id": "Xgu2seZCZTF-",
    "outputId": "4bf71dd9-11ef-45fc-e0cf-0716e1430450"
   },
   "outputs": [
    {
     "name": "stdout",
     "output_type": "stream",
     "text": [
      "Label: 1\n",
      "Review: [  43   92 1278  501   15    8 6353    2   15 1609  131   47   24   77\n",
      "    2  237    2    2  158  158]\n",
      "Actual Sentence is :  out then rare days for in disabled and for angry these there his will and he's and and didn't didn't\n"
     ]
    }
   ],
   "source": [
    "print(\"Label:\", training_targets[150])\n",
    "print(\"Review:\",training_data1[150])\n",
    "print(\"Actual Sentence is : \",\" \".join( [reverse_index.get(i) for i in training_data1[150]] ))"
   ]
  },
  {
   "cell_type": "code",
   "execution_count": null,
   "metadata": {
    "colab": {
     "base_uri": "https://localhost:8080/"
    },
    "executionInfo": {
     "elapsed": 386,
     "status": "ok",
     "timestamp": 1626106506622,
     "user": {
      "displayName": "Ruchira S Dwivedi",
      "photoUrl": "",
      "userId": "08004570390284030604"
     },
     "user_tz": -330
    },
    "id": "4GcEBnKsZiEz",
    "outputId": "a9f9e510-4095-4b32-cf09-e1cc337f05ad"
   },
   "outputs": [
    {
     "name": "stdout",
     "output_type": "stream",
     "text": [
      "Label: 0\n",
      "Review: [ 21  15 191 607   4 910 552   7 229   5 226  20 198 138  10  10 241  46\n",
      "   7 158]\n",
      "Actual Sentence is :  not for big looked of badly roles br guy to script on series such i i am some br didn't\n"
     ]
    }
   ],
   "source": [
    "print(\"Label:\", training_targets[500])\n",
    "print(\"Review:\",training_data1[500])\n",
    "print(\"Actual Sentence is : \",\" \".join( [reverse_index.get(i) for i in training_data1[500]] ))"
   ]
  },
  {
   "cell_type": "markdown",
   "metadata": {
    "id": "a6JUWeJmd8g9"
   },
   "source": [
    "## **Step 5: Design, train, tune and test a sequential model.**"
   ]
  },
  {
   "cell_type": "code",
   "execution_count": null,
   "metadata": {
    "colab": {
     "base_uri": "https://localhost:8080/"
    },
    "executionInfo": {
     "elapsed": 638,
     "status": "ok",
     "timestamp": 1626105527068,
     "user": {
      "displayName": "Ruchira S Dwivedi",
      "photoUrl": "",
      "userId": "08004570390284030604"
     },
     "user_tz": -330
    },
    "id": "QUhH1UzLgiP2",
    "outputId": "0eaaa1fd-a5e2-4434-9ebb-0f88b8c1dde4"
   },
   "outputs": [
    {
     "name": "stdout",
     "output_type": "stream",
     "text": [
      "x_train shape: (25000, 20)\n",
      "x_test shape: (25000, 20)\n"
     ]
    }
   ],
   "source": [
    "x_train = sequence.pad_sequences(training_data, maxlen=20)\n",
    "x_test = sequence.pad_sequences(testing_data, maxlen=20)\n",
    "\n",
    "print('x_train shape:', x_train.shape)\n",
    "print('x_test shape:', x_test.shape)"
   ]
  },
  {
   "cell_type": "code",
   "execution_count": null,
   "metadata": {
    "id": "q7Ck69_2h0xk"
   },
   "outputs": [],
   "source": [
    "y_train=training_targets\n",
    "y_test=testing_targets"
   ]
  },
  {
   "cell_type": "code",
   "execution_count": null,
   "metadata": {
    "id": "b7rGMjjrfMmR"
   },
   "outputs": [],
   "source": [
    "import tensorflow as tf\n",
    "from tensorflow import keras\n",
    "from tensorflow.keras import layers\n",
    "from keras.models import Sequential\n",
    "from keras.layers import Dense, Embedding,LSTM\n"
   ]
  },
  {
   "cell_type": "code",
   "execution_count": null,
   "metadata": {
    "id": "U8wPgjmzhSqk"
   },
   "outputs": [],
   "source": [
    "max_features=20000"
   ]
  },
  {
   "cell_type": "code",
   "execution_count": null,
   "metadata": {
    "colab": {
     "base_uri": "https://localhost:8080/"
    },
    "executionInfo": {
     "elapsed": 6468,
     "status": "ok",
     "timestamp": 1626105602025,
     "user": {
      "displayName": "Ruchira S Dwivedi",
      "photoUrl": "",
      "userId": "08004570390284030604"
     },
     "user_tz": -330
    },
    "id": "IkC3ClvLeOCA",
    "outputId": "fb26de8e-158e-4364-dc7d-b631c00e7fcc"
   },
   "outputs": [
    {
     "name": "stdout",
     "output_type": "stream",
     "text": [
      "WARNING:tensorflow:Layer lstm will not use cuDNN kernels since it doesn't meet the criteria. It will use a generic GPU kernel as fallback when running on GPU.\n"
     ]
    }
   ],
   "source": [
    "model = keras.Sequential()\n",
    "model.add(Embedding(max_features, 128))\n",
    "model.add(LSTM(128, dropout=0.2, recurrent_dropout=0.2))\n",
    "model.add(Dense(1, activation='sigmoid'))\n"
   ]
  },
  {
   "cell_type": "code",
   "execution_count": null,
   "metadata": {
    "id": "e7sqwm-XeOF5"
   },
   "outputs": [],
   "source": [
    "model.compile(loss='binary_crossentropy',\n",
    "              optimizer='adam',\n",
    "              metrics=['accuracy'])"
   ]
  },
  {
   "cell_type": "code",
   "execution_count": null,
   "metadata": {
    "colab": {
     "base_uri": "https://localhost:8080/"
    },
    "executionInfo": {
     "elapsed": 1342646,
     "status": "ok",
     "timestamp": 1626107869685,
     "user": {
      "displayName": "Ruchira S Dwivedi",
      "photoUrl": "",
      "userId": "08004570390284030604"
     },
     "user_tz": -330
    },
    "id": "rzDpUN90fnSo",
    "outputId": "9bc9ff6d-2a1c-4505-92e4-e9986dca6da4"
   },
   "outputs": [
    {
     "name": "stdout",
     "output_type": "stream",
     "text": [
      "Epoch 1/15\n",
      "782/782 [==============================] - 89s 113ms/step - loss: 0.0538 - accuracy: 0.9813 - val_loss: 1.2834 - val_accuracy: 0.7333\n",
      "Epoch 2/15\n",
      "782/782 [==============================] - 89s 113ms/step - loss: 0.0385 - accuracy: 0.9865 - val_loss: 1.5479 - val_accuracy: 0.7321\n",
      "Epoch 3/15\n",
      "782/782 [==============================] - 88s 113ms/step - loss: 0.0301 - accuracy: 0.9893 - val_loss: 1.5071 - val_accuracy: 0.7307\n",
      "Epoch 4/15\n",
      "782/782 [==============================] - 88s 112ms/step - loss: 0.0277 - accuracy: 0.9907 - val_loss: 1.6254 - val_accuracy: 0.7330\n",
      "Epoch 5/15\n",
      "782/782 [==============================] - 88s 113ms/step - loss: 0.0211 - accuracy: 0.9928 - val_loss: 1.6693 - val_accuracy: 0.7314\n",
      "Epoch 6/15\n",
      "782/782 [==============================] - 88s 112ms/step - loss: 0.0166 - accuracy: 0.9942 - val_loss: 1.8581 - val_accuracy: 0.7298\n",
      "Epoch 7/15\n",
      "782/782 [==============================] - 88s 112ms/step - loss: 0.0167 - accuracy: 0.9950 - val_loss: 1.8152 - val_accuracy: 0.7288\n",
      "Epoch 8/15\n",
      "782/782 [==============================] - 88s 112ms/step - loss: 0.0115 - accuracy: 0.9959 - val_loss: 2.0109 - val_accuracy: 0.7302\n",
      "Epoch 9/15\n",
      "782/782 [==============================] - 88s 113ms/step - loss: 0.0122 - accuracy: 0.9959 - val_loss: 1.9062 - val_accuracy: 0.7364\n",
      "Epoch 10/15\n",
      "782/782 [==============================] - 88s 113ms/step - loss: 0.0155 - accuracy: 0.9949 - val_loss: 1.8970 - val_accuracy: 0.7222\n",
      "Epoch 11/15\n",
      "782/782 [==============================] - 87s 112ms/step - loss: 0.0099 - accuracy: 0.9970 - val_loss: 2.0700 - val_accuracy: 0.7300\n",
      "Epoch 12/15\n",
      "782/782 [==============================] - 88s 112ms/step - loss: 0.0084 - accuracy: 0.9972 - val_loss: 2.0290 - val_accuracy: 0.7323\n",
      "Epoch 13/15\n",
      "782/782 [==============================] - 88s 113ms/step - loss: 0.0052 - accuracy: 0.9980 - val_loss: 2.2018 - val_accuracy: 0.7299\n",
      "Epoch 14/15\n",
      "782/782 [==============================] - 87s 112ms/step - loss: 0.0087 - accuracy: 0.9971 - val_loss: 2.1123 - val_accuracy: 0.7344\n",
      "Epoch 15/15\n",
      "782/782 [==============================] - 87s 111ms/step - loss: 0.0075 - accuracy: 0.9974 - val_loss: 2.0214 - val_accuracy: 0.7302\n"
     ]
    }
   ],
   "source": [
    "results=model.fit(x_train, y_train,\n",
    "          epochs=15,\n",
    "          validation_data=(x_test, y_test))"
   ]
  },
  {
   "cell_type": "markdown",
   "metadata": {
    "id": "sYEoIDeCkI3v"
   },
   "source": [
    "We have tried tuning the model with different optimizers (SGD, adam, rmsprop), changing dropout ratios and no. of neurons in NN. However, the above given model gives the best training and validation accuracies. "
   ]
  },
  {
   "cell_type": "code",
   "execution_count": null,
   "metadata": {
    "colab": {
     "base_uri": "https://localhost:8080/"
    },
    "executionInfo": {
     "elapsed": 6544,
     "status": "ok",
     "timestamp": 1626107928426,
     "user": {
      "displayName": "Ruchira S Dwivedi",
      "photoUrl": "",
      "userId": "08004570390284030604"
     },
     "user_tz": -330
    },
    "id": "Pgmy1jdQfndq",
    "outputId": "85375bd4-0a08-4091-e131-710b90b0ea63"
   },
   "outputs": [
    {
     "name": "stdout",
     "output_type": "stream",
     "text": [
      "782/782 [==============================] - 5s 6ms/step - loss: 0.0021 - accuracy: 0.9994\n",
      "Train Loss: 0.0020760823972523212\n",
      "Train accuracy: 0.9994400143623352\n"
     ]
    }
   ],
   "source": [
    "loss, acc = model.evaluate(x_train, y_train)\n",
    "print('Train Loss:', score)\n",
    "print('Train accuracy:', acc)"
   ]
  },
  {
   "cell_type": "code",
   "execution_count": null,
   "metadata": {
    "colab": {
     "base_uri": "https://localhost:8080/"
    },
    "executionInfo": {
     "elapsed": 5394,
     "status": "ok",
     "timestamp": 1626107950756,
     "user": {
      "displayName": "Ruchira S Dwivedi",
      "photoUrl": "",
      "userId": "08004570390284030604"
     },
     "user_tz": -330
    },
    "id": "cwbIPDRCju1O",
    "outputId": "15ee4c06-b4a8-4c55-c323-e44ed2144c9e"
   },
   "outputs": [
    {
     "name": "stdout",
     "output_type": "stream",
     "text": [
      "782/782 [==============================] - 5s 6ms/step - loss: 2.0214 - accuracy: 0.7302\n",
      "Test Loss: 2.021416187286377\n",
      "Test accuracy: 0.730239987373352\n"
     ]
    }
   ],
   "source": [
    "loss, acc = model.evaluate(x_test, y_test)\n",
    "print('Test Loss:', loss)\n",
    "print('Test accuracy:', acc)"
   ]
  },
  {
   "cell_type": "markdown",
   "metadata": {
    "id": "XNEoMP6Dj4vY"
   },
   "source": [
    "Predicting Test data with Neural Network Model"
   ]
  },
  {
   "cell_type": "code",
   "execution_count": null,
   "metadata": {
    "colab": {
     "base_uri": "https://localhost:8080/"
    },
    "executionInfo": {
     "elapsed": 4641,
     "status": "ok",
     "timestamp": 1626107966137,
     "user": {
      "displayName": "Ruchira S Dwivedi",
      "photoUrl": "",
      "userId": "08004570390284030604"
     },
     "user_tz": -330
    },
    "id": "irv3DeWYiF-N",
    "outputId": "0b7e3964-c396-456f-f547-686f488ae739"
   },
   "outputs": [
    {
     "name": "stderr",
     "output_type": "stream",
     "text": [
      "/usr/local/lib/python3.7/dist-packages/tensorflow/python/keras/engine/sequential.py:455: UserWarning: `model.predict_classes()` is deprecated and will be removed after 2021-01-01. Please use instead:* `np.argmax(model.predict(x), axis=-1)`,   if your model does multi-class classification   (e.g. if it uses a `softmax` last-layer activation).* `(model.predict(x) > 0.5).astype(\"int32\")`,   if your model does binary classification   (e.g. if it uses a `sigmoid` last-layer activation).\n",
      "  warnings.warn('`model.predict_classes()` is deprecated and '\n"
     ]
    }
   ],
   "source": [
    "preds=model.predict_classes(x_test)"
   ]
  },
  {
   "cell_type": "code",
   "execution_count": null,
   "metadata": {
    "colab": {
     "base_uri": "https://localhost:8080/"
    },
    "executionInfo": {
     "elapsed": 769,
     "status": "ok",
     "timestamp": 1626107978262,
     "user": {
      "displayName": "Ruchira S Dwivedi",
      "photoUrl": "",
      "userId": "08004570390284030604"
     },
     "user_tz": -330
    },
    "id": "cfPHKztpln31",
    "outputId": "aa5aaf19-e890-4056-d549-f37a5f8b6375"
   },
   "outputs": [
    {
     "data": {
      "text/plain": [
       "array([[0],\n",
       "       [1],\n",
       "       [0],\n",
       "       ...,\n",
       "       [0],\n",
       "       [0],\n",
       "       [0]], dtype=int32)"
      ]
     },
     "execution_count": 105,
     "metadata": {
      "tags": []
     },
     "output_type": "execute_result"
    }
   ],
   "source": [
    "preds"
   ]
  },
  {
   "cell_type": "code",
   "execution_count": null,
   "metadata": {
    "colab": {
     "base_uri": "https://localhost:8080/"
    },
    "executionInfo": {
     "elapsed": 352,
     "status": "ok",
     "timestamp": 1626108001303,
     "user": {
      "displayName": "Ruchira S Dwivedi",
      "photoUrl": "",
      "userId": "08004570390284030604"
     },
     "user_tz": -330
    },
    "id": "E4EYX5buiQvU",
    "outputId": "90ea903d-aa92-43ff-cb96-a791813914a0"
   },
   "outputs": [
    {
     "data": {
      "text/plain": [
       "array([0, 1, 0, ..., 0, 0, 0], dtype=int32)"
      ]
     },
     "execution_count": 108,
     "metadata": {
      "tags": []
     },
     "output_type": "execute_result"
    }
   ],
   "source": [
    "pred_classes=preds.reshape(len(x_test))\n",
    "pred_classes"
   ]
  },
  {
   "cell_type": "markdown",
   "metadata": {
    "id": "8sldhJ1rg12l"
   },
   "source": [
    "## **Model Effect Overview**"
   ]
  },
  {
   "cell_type": "code",
   "execution_count": null,
   "metadata": {
    "colab": {
     "base_uri": "https://localhost:8080/",
     "height": 299
    },
    "executionInfo": {
     "elapsed": 486,
     "status": "ok",
     "timestamp": 1626108268290,
     "user": {
      "displayName": "Ruchira S Dwivedi",
      "photoUrl": "",
      "userId": "08004570390284030604"
     },
     "user_tz": -330
    },
    "id": "f3X46_sNelkT",
    "outputId": "012c4402-09bf-4999-95f9-988d06f8016c"
   },
   "outputs": [
    {
     "data": {
      "image/png": "[encoded data removed]",
      "text/plain": [
       "<Figure size 432x288 with 1 Axes>"
      ]
     },
     "metadata": {
      "tags": []
     },
     "output_type": "display_data"
    }
   ],
   "source": [
    "plt.style.use(\"ggplot\")\n",
    "plt.figure()\n",
    "\n",
    "plt.plot(np.arange(0,15),results.history['loss'],label='Training Loss')\n",
    "plt.plot(np.arange(0,15),results.history['accuracy'],label='Training Accuracy')\n",
    "plt.plot(np.arange(0,15),results.history['val_loss'],label='Validdation Loss')\n",
    "plt.plot(np.arange(0,15),results.history['val_accuracy'],label='Validation Accuracy')\n",
    "\n",
    "plt.title(\"Training Loss and Accuracy\")\n",
    "plt.xlabel(\"Epoch#\")\n",
    "plt.ylabel(\"Loss/Accuracy\")\n",
    "plt.legend()\n",
    "plt.show()"
   ]
  },
  {
   "cell_type": "code",
   "execution_count": null,
   "metadata": {
    "colab": {
     "base_uri": "https://localhost:8080/"
    },
    "executionInfo": {
     "elapsed": 383,
     "status": "ok",
     "timestamp": 1626108338056,
     "user": {
      "displayName": "Ruchira S Dwivedi",
      "photoUrl": "",
      "userId": "08004570390284030604"
     },
     "user_tz": -330
    },
    "id": "MNeZsGhPdsOR",
    "outputId": "fa30024c-456c-486b-ff69-175ee9baa284"
   },
   "outputs": [
    {
     "name": "stdout",
     "output_type": "stream",
     "text": [
      "0.7309893329938253\n"
     ]
    }
   ],
   "source": [
    "print(np.mean(results.history[\"val_accuracy\"]))"
   ]
  },
  {
   "cell_type": "markdown",
   "metadata": {
    "id": "URQNS_ePg7-Y"
   },
   "source": [
    "## **Confusion Matrix and Correlation Report**"
   ]
  },
  {
   "cell_type": "code",
   "execution_count": null,
   "metadata": {
    "id": "vuRiCLSthdMP"
   },
   "outputs": [],
   "source": [
    "from sklearn.metrics import confusion_matrix,classification_report\n",
    "import pandas as pd"
   ]
  },
  {
   "cell_type": "code",
   "execution_count": null,
   "metadata": {
    "colab": {
     "base_uri": "https://localhost:8080/",
     "height": 111
    },
    "executionInfo": {
     "elapsed": 354,
     "status": "ok",
     "timestamp": 1626108362262,
     "user": {
      "displayName": "Ruchira S Dwivedi",
      "photoUrl": "",
      "userId": "08004570390284030604"
     },
     "user_tz": -330
    },
    "id": "FgRHl3Qyg8Ka",
    "outputId": "c22f1da8-8578-4f33-f47e-e7ec7822e4b9"
   },
   "outputs": [
    {
     "data": {
      "text/html": [
       "<div>\n",
       "<style scoped>\n",
       "    .dataframe tbody tr th:only-of-type {\n",
       "        vertical-align: middle;\n",
       "    }\n",
       "\n",
       "    .dataframe tbody tr th {\n",
       "        vertical-align: top;\n",
       "    }\n",
       "\n",
       "    .dataframe thead th {\n",
       "        text-align: right;\n",
       "    }\n",
       "</style>\n",
       "<table border=\"1\" class=\"dataframe\">\n",
       "  <thead>\n",
       "    <tr style=\"text-align: right;\">\n",
       "      <th></th>\n",
       "      <th>Bad</th>\n",
       "      <th>Good</th>\n",
       "    </tr>\n",
       "  </thead>\n",
       "  <tbody>\n",
       "    <tr>\n",
       "      <th>Bad</th>\n",
       "      <td>9202</td>\n",
       "      <td>3298</td>\n",
       "    </tr>\n",
       "    <tr>\n",
       "      <th>Good</th>\n",
       "      <td>3446</td>\n",
       "      <td>9054</td>\n",
       "    </tr>\n",
       "  </tbody>\n",
       "</table>\n",
       "</div>"
      ],
      "text/plain": [
       "       Bad  Good\n",
       "Bad   9202  3298\n",
       "Good  3446  9054"
      ]
     },
     "execution_count": 120,
     "metadata": {
      "tags": []
     },
     "output_type": "execute_result"
    }
   ],
   "source": [
    "cm=confusion_matrix(y_test,preds)\n",
    "df_cm=pd.DataFrame(cm,index=['Bad','Good'],columns=['Bad','Good'])\n",
    "df_cm.head()"
   ]
  },
  {
   "cell_type": "code",
   "execution_count": null,
   "metadata": {
    "colab": {
     "base_uri": "https://localhost:8080/"
    },
    "executionInfo": {
     "elapsed": 1085,
     "status": "ok",
     "timestamp": 1626108368728,
     "user": {
      "displayName": "Ruchira S Dwivedi",
      "photoUrl": "",
      "userId": "08004570390284030604"
     },
     "user_tz": -330
    },
    "id": "1bPzDds8g8O8",
    "outputId": "c57d2835-829a-4510-e188-02995e1798e4"
   },
   "outputs": [
    {
     "name": "stdout",
     "output_type": "stream",
     "text": [
      "              precision    recall  f1-score   support\n",
      "\n",
      "           0       0.73      0.74      0.73     12500\n",
      "           1       0.73      0.72      0.73     12500\n",
      "\n",
      "    accuracy                           0.73     25000\n",
      "   macro avg       0.73      0.73      0.73     25000\n",
      "weighted avg       0.73      0.73      0.73     25000\n",
      "\n"
     ]
    }
   ],
   "source": [
    "report=classification_report(y_test,preds)\n",
    "print(report)"
   ]
  },
  {
   "cell_type": "markdown",
   "metadata": {
    "id": "RtKqplKqc4ot"
   },
   "source": [
    "## **Step 6: Use the designed model to print the prediction on any one sample**"
   ]
  },
  {
   "cell_type": "code",
   "execution_count": null,
   "metadata": {
    "id": "V7IFjm9_c43W"
   },
   "outputs": [],
   "source": [
    "SentimentDict={1:'positive', 0:'negative'}"
   ]
  },
  {
   "cell_type": "code",
   "execution_count": null,
   "metadata": {
    "colab": {
     "base_uri": "https://localhost:8080/"
    },
    "executionInfo": {
     "elapsed": 5968,
     "status": "ok",
     "timestamp": 1626109372838,
     "user": {
      "displayName": "Ruchira S Dwivedi",
      "photoUrl": "",
      "userId": "08004570390284030604"
     },
     "user_tz": -330
    },
    "id": "8BLzHlmrnojW",
    "outputId": "bf92dc0b-8eed-40a1-e6fa-d725343881cc"
   },
   "outputs": [
    {
     "name": "stderr",
     "output_type": "stream",
     "text": [
      "/usr/local/lib/python3.7/dist-packages/tensorflow/python/keras/engine/sequential.py:455: UserWarning: `model.predict_classes()` is deprecated and will be removed after 2021-01-01. Please use instead:* `np.argmax(model.predict(x), axis=-1)`,   if your model does multi-class classification   (e.g. if it uses a `softmax` last-layer activation).* `(model.predict(x) > 0.5).astype(\"int32\")`,   if your model does binary classification   (e.g. if it uses a `sigmoid` last-layer activation).\n",
      "  warnings.warn('`model.predict_classes()` is deprecated and '\n"
     ]
    }
   ],
   "source": [
    "preds=model.predict_classes(x_test)"
   ]
  },
  {
   "cell_type": "code",
   "execution_count": null,
   "metadata": {
    "colab": {
     "base_uri": "https://localhost:8080/"
    },
    "executionInfo": {
     "elapsed": 392,
     "status": "ok",
     "timestamp": 1626109388578,
     "user": {
      "displayName": "Ruchira S Dwivedi",
      "photoUrl": "",
      "userId": "08004570390284030604"
     },
     "user_tz": -330
    },
    "id": "JTKQmmrRq9TF",
    "outputId": "95a21b53-6d1e-48f9-ec04-2a863e80b9b0"
   },
   "outputs": [
    {
     "data": {
      "text/plain": [
       "array([[0],\n",
       "       [1],\n",
       "       [0],\n",
       "       ...,\n",
       "       [0],\n",
       "       [0],\n",
       "       [0]], dtype=int32)"
      ]
     },
     "execution_count": 144,
     "metadata": {
      "tags": []
     },
     "output_type": "execute_result"
    }
   ],
   "source": [
    "preds"
   ]
  },
  {
   "cell_type": "code",
   "execution_count": null,
   "metadata": {
    "colab": {
     "base_uri": "https://localhost:8080/"
    },
    "executionInfo": {
     "elapsed": 7,
     "status": "ok",
     "timestamp": 1626108697721,
     "user": {
      "displayName": "Ruchira S Dwivedi",
      "photoUrl": "",
      "userId": "08004570390284030604"
     },
     "user_tz": -330
    },
    "id": "2RZOVObYnvc6",
    "outputId": "3cd96d7b-e11c-4cec-fbc9-8efeb6a65df5"
   },
   "outputs": [
    {
     "data": {
      "text/plain": [
       "25000"
      ]
     },
     "execution_count": 136,
     "metadata": {
      "tags": []
     },
     "output_type": "execute_result"
    }
   ],
   "source": [
    "len(preds)"
   ]
  },
  {
   "cell_type": "code",
   "execution_count": null,
   "metadata": {
    "colab": {
     "base_uri": "https://localhost:8080/"
    },
    "executionInfo": {
     "elapsed": 459,
     "status": "ok",
     "timestamp": 1626108703208,
     "user": {
      "displayName": "Ruchira S Dwivedi",
      "photoUrl": "",
      "userId": "08004570390284030604"
     },
     "user_tz": -330
    },
    "id": "LY_TKOLGnouC",
    "outputId": "caa5d7ad-b12c-420f-8cbe-776aa03b0a5b"
   },
   "outputs": [
    {
     "data": {
      "text/plain": [
       "array([0, 1, 0, ..., 0, 0, 0], dtype=int32)"
      ]
     },
     "execution_count": 137,
     "metadata": {
      "tags": []
     },
     "output_type": "execute_result"
    }
   ],
   "source": [
    "pred_classes=preds.reshape(len(x_test))\n",
    "pred_classes"
   ]
  },
  {
   "cell_type": "code",
   "execution_count": null,
   "metadata": {
    "colab": {
     "base_uri": "https://localhost:8080/"
    },
    "executionInfo": {
     "elapsed": 490,
     "status": "ok",
     "timestamp": 1626108847192,
     "user": {
      "displayName": "Ruchira S Dwivedi",
      "photoUrl": "",
      "userId": "08004570390284030604"
     },
     "user_tz": -330
    },
    "id": "RP75q-owixNe",
    "outputId": "0b5ce1c0-6a5c-47f9-870b-c6151a140e12"
   },
   "outputs": [
    {
     "name": "stdout",
     "output_type": "stream",
     "text": [
      "Review: [ 46 304  33   4 130  81  24 563  33   4 380   7   4 898  10  10  33 222\n",
      "   6 693] \n",
      "\n",
      "Actual Sentence is :  some beautiful they of here people his cannot they of sex br of write i i they there's is supporting \n",
      "\n",
      "Actual Label:  positive , Model Prediction:  positive\n"
     ]
    }
   ],
   "source": [
    "print(\"Review:\",x_test[500],\"\\n\")\n",
    "\n",
    "print(\"Actual Sentence is : \",\" \".join( [reverse_index.get(i) for i in x_test[500]] ),'\\n')\n",
    "\n",
    "print('Actual Label: ', SentimentDict[y_test[500]], ', Model Prediction: ', SentimentDict[pred_classes[500]])"
   ]
  },
  {
   "cell_type": "code",
   "execution_count": null,
   "metadata": {
    "colab": {
     "base_uri": "https://localhost:8080/"
    },
    "executionInfo": {
     "elapsed": 393,
     "status": "ok",
     "timestamp": 1626108825894,
     "user": {
      "displayName": "Ruchira S Dwivedi",
      "photoUrl": "",
      "userId": "08004570390284030604"
     },
     "user_tz": -330
    },
    "id": "1ldx0KbPoBTb",
    "outputId": "dd1da582-6241-4f6b-a417-d455b113cde0"
   },
   "outputs": [
    {
     "name": "stdout",
     "output_type": "stream",
     "text": [
      "Review: [   6  601  437    7   58    5  209    6  824   31    7    4  249    8\n",
      " 2123    4  403    7 9142 6497] \n",
      "\n",
      "Actual Sentence is :  is group hope br my to comedy is tom by br of sure in creates of human br guided evelyn \n",
      "\n",
      "Actual Label:  negative , Model Prediction:  negative\n"
     ]
    }
   ],
   "source": [
    "print(\"Review:\",x_test[600],\"\\n\")\n",
    "\n",
    "print(\"Actual Sentence is : \",\" \".join( [reverse_index.get(i) for i in x_test[600]] ),'\\n')\n",
    "\n",
    "print('Actual Label: ', SentimentDict[y_test[600]], ', Model Prediction: ', SentimentDict[pred_classes[600]])"
   ]
  },
  {
   "cell_type": "code",
   "execution_count": null,
   "metadata": {
    "colab": {
     "base_uri": "https://localhost:8080/"
    },
    "executionInfo": {
     "elapsed": 584,
     "status": "ok",
     "timestamp": 1626108833435,
     "user": {
      "displayName": "Ruchira S Dwivedi",
      "photoUrl": "",
      "userId": "08004570390284030604"
     },
     "user_tz": -330
    },
    "id": "2fHy4IvBohrm",
    "outputId": "fab176e7-d444-402c-dcbc-69edff2fd2e1"
   },
   "outputs": [
    {
     "name": "stdout",
     "output_type": "stream",
     "text": [
      "Review: [ 113   33    2 6772   14    9    6   87  356   22    5   80   30 2395\n",
      "   34  111 5122    8  216  358] \n",
      "\n",
      "Actual Sentence is :  acting they and mystical as it is him need you to into at influence who plot 1995 in saw use \n",
      "\n",
      "Actual Label:  positive , Model Prediction:  positive\n"
     ]
    }
   ],
   "source": [
    "print(\"Review:\",x_test[6000],\"\\n\")\n",
    "\n",
    "print(\"Actual Sentence is : \",\" \".join( [reverse_index.get(i) for i in x_test[6000]] ),'\\n')\n",
    "\n",
    "print('Actual Label: ', SentimentDict[y_test[6000]], ', Model Prediction: ', SentimentDict[pred_classes[6000]])"
   ]
  }
 ],
 "metadata": {
  "accelerator": "GPU",
  "colab": {
   "authorship_tag": "ABX9TyMY4ATw7yIjxl27WT/32mA3",
   "collapsed_sections": [],
   "name": "Ruchira Sharma-NLP-Project-2-Part-1.ipynb",
   "provenance": []
  },
  "kernelspec": {
   "display_name": "Python 3",
   "language": "python",
   "name": "python3"
  },
  "language_info": {
   "codemirror_mode": {
    "name": "ipython",
    "version": 3
   },
   "file_extension": ".py",
   "mimetype": "text/x-python",
   "name": "python",
   "nbconvert_exporter": "python",
   "pygments_lexer": "ipython3",
   "version": "3.8.3"
  }
 },
 "nbformat": 4,
 "nbformat_minor": 1
}
